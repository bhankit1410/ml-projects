{
 "cells": [
  {
   "cell_type": "code",
   "execution_count": 1,
   "metadata": {},
   "outputs": [],
   "source": [
    "import pandas as pd\n",
    "\n",
    "import matplotlib.pyplot as plt"
   ]
  },
  {
   "cell_type": "code",
   "execution_count": 12,
   "metadata": {},
   "outputs": [],
   "source": [
    "housing_data = pd.read_csv('data/housing.csv').dropna()"
   ]
  },
  {
   "cell_type": "code",
   "execution_count": 13,
   "metadata": {},
   "outputs": [
    {
     "data": {
      "text/html": [
       "<div>\n",
       "<style scoped>\n",
       "    .dataframe tbody tr th:only-of-type {\n",
       "        vertical-align: middle;\n",
       "    }\n",
       "\n",
       "    .dataframe tbody tr th {\n",
       "        vertical-align: top;\n",
       "    }\n",
       "\n",
       "    .dataframe thead th {\n",
       "        text-align: right;\n",
       "    }\n",
       "</style>\n",
       "<table border=\"1\" class=\"dataframe\">\n",
       "  <thead>\n",
       "    <tr style=\"text-align: right;\">\n",
       "      <th></th>\n",
       "      <th>longitude</th>\n",
       "      <th>latitude</th>\n",
       "      <th>housing_median_age</th>\n",
       "      <th>total_rooms</th>\n",
       "      <th>total_bedrooms</th>\n",
       "      <th>population</th>\n",
       "      <th>households</th>\n",
       "      <th>median_income</th>\n",
       "      <th>median_house_value</th>\n",
       "      <th>ocean_proximity</th>\n",
       "    </tr>\n",
       "  </thead>\n",
       "  <tbody>\n",
       "    <tr>\n",
       "      <th>13976</th>\n",
       "      <td>-116.98</td>\n",
       "      <td>34.13</td>\n",
       "      <td>16.0</td>\n",
       "      <td>2098.0</td>\n",
       "      <td>449.0</td>\n",
       "      <td>342.0</td>\n",
       "      <td>143.0</td>\n",
       "      <td>4.0333</td>\n",
       "      <td>133900.0</td>\n",
       "      <td>INLAND</td>\n",
       "    </tr>\n",
       "    <tr>\n",
       "      <th>4791</th>\n",
       "      <td>-118.33</td>\n",
       "      <td>34.02</td>\n",
       "      <td>46.0</td>\n",
       "      <td>1528.0</td>\n",
       "      <td>391.0</td>\n",
       "      <td>933.0</td>\n",
       "      <td>366.0</td>\n",
       "      <td>2.1979</td>\n",
       "      <td>125700.0</td>\n",
       "      <td>&lt;1H OCEAN</td>\n",
       "    </tr>\n",
       "    <tr>\n",
       "      <th>7602</th>\n",
       "      <td>-118.26</td>\n",
       "      <td>33.89</td>\n",
       "      <td>36.0</td>\n",
       "      <td>923.0</td>\n",
       "      <td>165.0</td>\n",
       "      <td>603.0</td>\n",
       "      <td>191.0</td>\n",
       "      <td>3.5687</td>\n",
       "      <td>120700.0</td>\n",
       "      <td>&lt;1H OCEAN</td>\n",
       "    </tr>\n",
       "    <tr>\n",
       "      <th>11943</th>\n",
       "      <td>-117.43</td>\n",
       "      <td>33.95</td>\n",
       "      <td>36.0</td>\n",
       "      <td>2284.0</td>\n",
       "      <td>444.0</td>\n",
       "      <td>1425.0</td>\n",
       "      <td>405.0</td>\n",
       "      <td>4.0526</td>\n",
       "      <td>104500.0</td>\n",
       "      <td>INLAND</td>\n",
       "    </tr>\n",
       "    <tr>\n",
       "      <th>19300</th>\n",
       "      <td>-122.83</td>\n",
       "      <td>38.39</td>\n",
       "      <td>19.0</td>\n",
       "      <td>1765.0</td>\n",
       "      <td>394.0</td>\n",
       "      <td>868.0</td>\n",
       "      <td>388.0</td>\n",
       "      <td>2.4620</td>\n",
       "      <td>260300.0</td>\n",
       "      <td>&lt;1H OCEAN</td>\n",
       "    </tr>\n",
       "  </tbody>\n",
       "</table>\n",
       "</div>"
      ],
      "text/plain": [
       "       longitude  latitude  housing_median_age  total_rooms  total_bedrooms  \\\n",
       "13976    -116.98     34.13                16.0       2098.0           449.0   \n",
       "4791     -118.33     34.02                46.0       1528.0           391.0   \n",
       "7602     -118.26     33.89                36.0        923.0           165.0   \n",
       "11943    -117.43     33.95                36.0       2284.0           444.0   \n",
       "19300    -122.83     38.39                19.0       1765.0           394.0   \n",
       "\n",
       "       population  households  median_income  median_house_value  \\\n",
       "13976       342.0       143.0         4.0333            133900.0   \n",
       "4791        933.0       366.0         2.1979            125700.0   \n",
       "7602        603.0       191.0         3.5687            120700.0   \n",
       "11943      1425.0       405.0         4.0526            104500.0   \n",
       "19300       868.0       388.0         2.4620            260300.0   \n",
       "\n",
       "      ocean_proximity  \n",
       "13976          INLAND  \n",
       "4791        <1H OCEAN  \n",
       "7602        <1H OCEAN  \n",
       "11943          INLAND  \n",
       "19300       <1H OCEAN  "
      ]
     },
     "execution_count": 13,
     "metadata": {},
     "output_type": "execute_result"
    }
   ],
   "source": [
    "housing_data.sample(5)"
   ]
  },
  {
   "cell_type": "code",
   "execution_count": 14,
   "metadata": {},
   "outputs": [],
   "source": [
    "drop_index = housing_data.loc[housing_data['median_house_value'] == 500001].index"
   ]
  },
  {
   "cell_type": "code",
   "execution_count": 15,
   "metadata": {},
   "outputs": [],
   "source": [
    "housing_data = housing_data.drop(drop_index)"
   ]
  },
  {
   "cell_type": "code",
   "execution_count": 16,
   "metadata": {},
   "outputs": [
    {
     "data": {
      "text/plain": [
       "(19475, 10)"
      ]
     },
     "execution_count": 16,
     "metadata": {},
     "output_type": "execute_result"
    }
   ],
   "source": [
    "housing_data.shape"
   ]
  },
  {
   "cell_type": "code",
   "execution_count": 17,
   "metadata": {},
   "outputs": [],
   "source": [
    "housing_data = pd.get_dummies(housing_data, columns=['ocean_proximity'])"
   ]
  },
  {
   "cell_type": "code",
   "execution_count": 18,
   "metadata": {},
   "outputs": [
    {
     "data": {
      "text/plain": [
       "(19475, 14)"
      ]
     },
     "execution_count": 18,
     "metadata": {},
     "output_type": "execute_result"
    }
   ],
   "source": [
    "housing_data.shape"
   ]
  },
  {
   "cell_type": "code",
   "execution_count": 20,
   "metadata": {},
   "outputs": [
    {
     "data": {
      "text/html": [
       "<div>\n",
       "<style scoped>\n",
       "    .dataframe tbody tr th:only-of-type {\n",
       "        vertical-align: middle;\n",
       "    }\n",
       "\n",
       "    .dataframe tbody tr th {\n",
       "        vertical-align: top;\n",
       "    }\n",
       "\n",
       "    .dataframe thead th {\n",
       "        text-align: right;\n",
       "    }\n",
       "</style>\n",
       "<table border=\"1\" class=\"dataframe\">\n",
       "  <thead>\n",
       "    <tr style=\"text-align: right;\">\n",
       "      <th></th>\n",
       "      <th>longitude</th>\n",
       "      <th>latitude</th>\n",
       "      <th>housing_median_age</th>\n",
       "      <th>total_rooms</th>\n",
       "      <th>total_bedrooms</th>\n",
       "      <th>population</th>\n",
       "      <th>households</th>\n",
       "      <th>median_income</th>\n",
       "      <th>median_house_value</th>\n",
       "      <th>ocean_proximity_&lt;1H OCEAN</th>\n",
       "      <th>ocean_proximity_INLAND</th>\n",
       "      <th>ocean_proximity_ISLAND</th>\n",
       "      <th>ocean_proximity_NEAR BAY</th>\n",
       "      <th>ocean_proximity_NEAR OCEAN</th>\n",
       "    </tr>\n",
       "  </thead>\n",
       "  <tbody>\n",
       "    <tr>\n",
       "      <th>4320</th>\n",
       "      <td>-118.35</td>\n",
       "      <td>34.09</td>\n",
       "      <td>47.0</td>\n",
       "      <td>1800.0</td>\n",
       "      <td>546.0</td>\n",
       "      <td>921.0</td>\n",
       "      <td>478.0</td>\n",
       "      <td>2.8021</td>\n",
       "      <td>280600.0</td>\n",
       "      <td>1</td>\n",
       "      <td>0</td>\n",
       "      <td>0</td>\n",
       "      <td>0</td>\n",
       "      <td>0</td>\n",
       "    </tr>\n",
       "    <tr>\n",
       "      <th>14894</th>\n",
       "      <td>-117.06</td>\n",
       "      <td>32.61</td>\n",
       "      <td>34.0</td>\n",
       "      <td>4325.0</td>\n",
       "      <td>1015.0</td>\n",
       "      <td>2609.0</td>\n",
       "      <td>979.0</td>\n",
       "      <td>2.8489</td>\n",
       "      <td>128300.0</td>\n",
       "      <td>0</td>\n",
       "      <td>0</td>\n",
       "      <td>0</td>\n",
       "      <td>0</td>\n",
       "      <td>1</td>\n",
       "    </tr>\n",
       "    <tr>\n",
       "      <th>2049</th>\n",
       "      <td>-119.73</td>\n",
       "      <td>36.73</td>\n",
       "      <td>9.0</td>\n",
       "      <td>1621.0</td>\n",
       "      <td>428.0</td>\n",
       "      <td>678.0</td>\n",
       "      <td>394.0</td>\n",
       "      <td>2.2437</td>\n",
       "      <td>54200.0</td>\n",
       "      <td>0</td>\n",
       "      <td>1</td>\n",
       "      <td>0</td>\n",
       "      <td>0</td>\n",
       "      <td>0</td>\n",
       "    </tr>\n",
       "    <tr>\n",
       "      <th>10401</th>\n",
       "      <td>-117.59</td>\n",
       "      <td>33.61</td>\n",
       "      <td>3.0</td>\n",
       "      <td>2993.0</td>\n",
       "      <td>429.0</td>\n",
       "      <td>991.0</td>\n",
       "      <td>390.0</td>\n",
       "      <td>10.0765</td>\n",
       "      <td>378200.0</td>\n",
       "      <td>1</td>\n",
       "      <td>0</td>\n",
       "      <td>0</td>\n",
       "      <td>0</td>\n",
       "      <td>0</td>\n",
       "    </tr>\n",
       "    <tr>\n",
       "      <th>6210</th>\n",
       "      <td>-117.90</td>\n",
       "      <td>34.07</td>\n",
       "      <td>35.0</td>\n",
       "      <td>1646.0</td>\n",
       "      <td>294.0</td>\n",
       "      <td>1056.0</td>\n",
       "      <td>280.0</td>\n",
       "      <td>3.0550</td>\n",
       "      <td>172000.0</td>\n",
       "      <td>1</td>\n",
       "      <td>0</td>\n",
       "      <td>0</td>\n",
       "      <td>0</td>\n",
       "      <td>0</td>\n",
       "    </tr>\n",
       "    <tr>\n",
       "      <th>11921</th>\n",
       "      <td>-117.41</td>\n",
       "      <td>33.96</td>\n",
       "      <td>27.0</td>\n",
       "      <td>2341.0</td>\n",
       "      <td>418.0</td>\n",
       "      <td>1272.0</td>\n",
       "      <td>415.0</td>\n",
       "      <td>3.0208</td>\n",
       "      <td>112700.0</td>\n",
       "      <td>0</td>\n",
       "      <td>1</td>\n",
       "      <td>0</td>\n",
       "      <td>0</td>\n",
       "      <td>0</td>\n",
       "    </tr>\n",
       "  </tbody>\n",
       "</table>\n",
       "</div>"
      ],
      "text/plain": [
       "       longitude  latitude  housing_median_age  total_rooms  total_bedrooms  \\\n",
       "4320     -118.35     34.09                47.0       1800.0           546.0   \n",
       "14894    -117.06     32.61                34.0       4325.0          1015.0   \n",
       "2049     -119.73     36.73                 9.0       1621.0           428.0   \n",
       "10401    -117.59     33.61                 3.0       2993.0           429.0   \n",
       "6210     -117.90     34.07                35.0       1646.0           294.0   \n",
       "11921    -117.41     33.96                27.0       2341.0           418.0   \n",
       "\n",
       "       population  households  median_income  median_house_value  \\\n",
       "4320        921.0       478.0         2.8021            280600.0   \n",
       "14894      2609.0       979.0         2.8489            128300.0   \n",
       "2049        678.0       394.0         2.2437             54200.0   \n",
       "10401       991.0       390.0        10.0765            378200.0   \n",
       "6210       1056.0       280.0         3.0550            172000.0   \n",
       "11921      1272.0       415.0         3.0208            112700.0   \n",
       "\n",
       "       ocean_proximity_<1H OCEAN  ocean_proximity_INLAND  \\\n",
       "4320                           1                       0   \n",
       "14894                          0                       0   \n",
       "2049                           0                       1   \n",
       "10401                          1                       0   \n",
       "6210                           1                       0   \n",
       "11921                          0                       1   \n",
       "\n",
       "       ocean_proximity_ISLAND  ocean_proximity_NEAR BAY  \\\n",
       "4320                        0                         0   \n",
       "14894                       0                         0   \n",
       "2049                        0                         0   \n",
       "10401                       0                         0   \n",
       "6210                        0                         0   \n",
       "11921                       0                         0   \n",
       "\n",
       "       ocean_proximity_NEAR OCEAN  \n",
       "4320                            0  \n",
       "14894                           1  \n",
       "2049                            0  \n",
       "10401                           0  \n",
       "6210                            0  \n",
       "11921                           0  "
      ]
     },
     "execution_count": 20,
     "metadata": {},
     "output_type": "execute_result"
    }
   ],
   "source": [
    "housing_data.sample(6)"
   ]
  },
  {
   "cell_type": "code",
   "execution_count": 23,
   "metadata": {},
   "outputs": [
    {
     "data": {
      "text/plain": [
       "173800.0"
      ]
     },
     "execution_count": 23,
     "metadata": {},
     "output_type": "execute_result"
    }
   ],
   "source": [
    "median = housing_data['median_house_value'].median()\n",
    "\n",
    "median"
   ]
  },
  {
   "cell_type": "code",
   "execution_count": 24,
   "metadata": {},
   "outputs": [],
   "source": [
    "housing_data['above_median'] = (housing_data['median_house_value'] - median > 0)"
   ]
  },
  {
   "cell_type": "code",
   "execution_count": 25,
   "metadata": {},
   "outputs": [
    {
     "data": {
      "text/plain": [
       "(19475, 15)"
      ]
     },
     "execution_count": 25,
     "metadata": {},
     "output_type": "execute_result"
    }
   ],
   "source": [
    "housing_data.shape"
   ]
  },
  {
   "cell_type": "code",
   "execution_count": 28,
   "metadata": {},
   "outputs": [
    {
     "data": {
      "text/html": [
       "<div>\n",
       "<style scoped>\n",
       "    .dataframe tbody tr th:only-of-type {\n",
       "        vertical-align: middle;\n",
       "    }\n",
       "\n",
       "    .dataframe tbody tr th {\n",
       "        vertical-align: top;\n",
       "    }\n",
       "\n",
       "    .dataframe thead th {\n",
       "        text-align: right;\n",
       "    }\n",
       "</style>\n",
       "<table border=\"1\" class=\"dataframe\">\n",
       "  <thead>\n",
       "    <tr style=\"text-align: right;\">\n",
       "      <th></th>\n",
       "      <th>longitude</th>\n",
       "      <th>latitude</th>\n",
       "      <th>housing_median_age</th>\n",
       "      <th>total_rooms</th>\n",
       "      <th>total_bedrooms</th>\n",
       "      <th>population</th>\n",
       "      <th>households</th>\n",
       "      <th>median_income</th>\n",
       "      <th>median_house_value</th>\n",
       "      <th>ocean_proximity_&lt;1H OCEAN</th>\n",
       "      <th>ocean_proximity_INLAND</th>\n",
       "      <th>ocean_proximity_ISLAND</th>\n",
       "      <th>ocean_proximity_NEAR BAY</th>\n",
       "      <th>ocean_proximity_NEAR OCEAN</th>\n",
       "      <th>above_median</th>\n",
       "    </tr>\n",
       "  </thead>\n",
       "  <tbody>\n",
       "    <tr>\n",
       "      <th>17179</th>\n",
       "      <td>-122.44</td>\n",
       "      <td>37.52</td>\n",
       "      <td>16.0</td>\n",
       "      <td>7077.0</td>\n",
       "      <td>1179.0</td>\n",
       "      <td>3502.0</td>\n",
       "      <td>1148.0</td>\n",
       "      <td>5.9919</td>\n",
       "      <td>345100.0</td>\n",
       "      <td>0</td>\n",
       "      <td>0</td>\n",
       "      <td>0</td>\n",
       "      <td>0</td>\n",
       "      <td>1</td>\n",
       "      <td>True</td>\n",
       "    </tr>\n",
       "    <tr>\n",
       "      <th>18668</th>\n",
       "      <td>-121.91</td>\n",
       "      <td>36.99</td>\n",
       "      <td>23.0</td>\n",
       "      <td>5675.0</td>\n",
       "      <td>964.0</td>\n",
       "      <td>2197.0</td>\n",
       "      <td>880.0</td>\n",
       "      <td>4.8693</td>\n",
       "      <td>322300.0</td>\n",
       "      <td>0</td>\n",
       "      <td>0</td>\n",
       "      <td>0</td>\n",
       "      <td>0</td>\n",
       "      <td>1</td>\n",
       "      <td>True</td>\n",
       "    </tr>\n",
       "    <tr>\n",
       "      <th>14413</th>\n",
       "      <td>-117.24</td>\n",
       "      <td>32.78</td>\n",
       "      <td>44.0</td>\n",
       "      <td>2172.0</td>\n",
       "      <td>431.0</td>\n",
       "      <td>892.0</td>\n",
       "      <td>420.0</td>\n",
       "      <td>4.1742</td>\n",
       "      <td>342200.0</td>\n",
       "      <td>0</td>\n",
       "      <td>0</td>\n",
       "      <td>0</td>\n",
       "      <td>0</td>\n",
       "      <td>1</td>\n",
       "      <td>True</td>\n",
       "    </tr>\n",
       "    <tr>\n",
       "      <th>19556</th>\n",
       "      <td>-121.00</td>\n",
       "      <td>37.61</td>\n",
       "      <td>36.0</td>\n",
       "      <td>2647.0</td>\n",
       "      <td>604.0</td>\n",
       "      <td>2045.0</td>\n",
       "      <td>550.0</td>\n",
       "      <td>2.2730</td>\n",
       "      <td>62900.0</td>\n",
       "      <td>0</td>\n",
       "      <td>1</td>\n",
       "      <td>0</td>\n",
       "      <td>0</td>\n",
       "      <td>0</td>\n",
       "      <td>False</td>\n",
       "    </tr>\n",
       "    <tr>\n",
       "      <th>6318</th>\n",
       "      <td>-117.97</td>\n",
       "      <td>34.01</td>\n",
       "      <td>33.0</td>\n",
       "      <td>2006.0</td>\n",
       "      <td>381.0</td>\n",
       "      <td>1410.0</td>\n",
       "      <td>346.0</td>\n",
       "      <td>3.7083</td>\n",
       "      <td>165500.0</td>\n",
       "      <td>1</td>\n",
       "      <td>0</td>\n",
       "      <td>0</td>\n",
       "      <td>0</td>\n",
       "      <td>0</td>\n",
       "      <td>False</td>\n",
       "    </tr>\n",
       "  </tbody>\n",
       "</table>\n",
       "</div>"
      ],
      "text/plain": [
       "       longitude  latitude  housing_median_age  total_rooms  total_bedrooms  \\\n",
       "17179    -122.44     37.52                16.0       7077.0          1179.0   \n",
       "18668    -121.91     36.99                23.0       5675.0           964.0   \n",
       "14413    -117.24     32.78                44.0       2172.0           431.0   \n",
       "19556    -121.00     37.61                36.0       2647.0           604.0   \n",
       "6318     -117.97     34.01                33.0       2006.0           381.0   \n",
       "\n",
       "       population  households  median_income  median_house_value  \\\n",
       "17179      3502.0      1148.0         5.9919            345100.0   \n",
       "18668      2197.0       880.0         4.8693            322300.0   \n",
       "14413       892.0       420.0         4.1742            342200.0   \n",
       "19556      2045.0       550.0         2.2730             62900.0   \n",
       "6318       1410.0       346.0         3.7083            165500.0   \n",
       "\n",
       "       ocean_proximity_<1H OCEAN  ocean_proximity_INLAND  \\\n",
       "17179                          0                       0   \n",
       "18668                          0                       0   \n",
       "14413                          0                       0   \n",
       "19556                          0                       1   \n",
       "6318                           1                       0   \n",
       "\n",
       "       ocean_proximity_ISLAND  ocean_proximity_NEAR BAY  \\\n",
       "17179                       0                         0   \n",
       "18668                       0                         0   \n",
       "14413                       0                         0   \n",
       "19556                       0                         0   \n",
       "6318                        0                         0   \n",
       "\n",
       "       ocean_proximity_NEAR OCEAN  above_median  \n",
       "17179                           1          True  \n",
       "18668                           1          True  \n",
       "14413                           1          True  \n",
       "19556                           0         False  \n",
       "6318                            0         False  "
      ]
     },
     "execution_count": 28,
     "metadata": {},
     "output_type": "execute_result"
    }
   ],
   "source": [
    "housing_data.sample(5)"
   ]
  },
  {
   "cell_type": "code",
   "execution_count": 29,
   "metadata": {},
   "outputs": [],
   "source": [
    "X = housing_data.drop(['above_median', 'median_house_value'], axis =1)\n",
    "Y = housing_data['above_median']"
   ]
  },
  {
   "cell_type": "code",
   "execution_count": 31,
   "metadata": {},
   "outputs": [
    {
     "data": {
      "text/plain": [
       "((19475, 13), (19475,))"
      ]
     },
     "execution_count": 31,
     "metadata": {},
     "output_type": "execute_result"
    }
   ],
   "source": [
    "X.shape , Y.shape"
   ]
  },
  {
   "cell_type": "code",
   "execution_count": 35,
   "metadata": {},
   "outputs": [
    {
     "data": {
      "text/html": [
       "<div>\n",
       "<style scoped>\n",
       "    .dataframe tbody tr th:only-of-type {\n",
       "        vertical-align: middle;\n",
       "    }\n",
       "\n",
       "    .dataframe tbody tr th {\n",
       "        vertical-align: top;\n",
       "    }\n",
       "\n",
       "    .dataframe thead th {\n",
       "        text-align: right;\n",
       "    }\n",
       "</style>\n",
       "<table border=\"1\" class=\"dataframe\">\n",
       "  <thead>\n",
       "    <tr style=\"text-align: right;\">\n",
       "      <th></th>\n",
       "      <th>longitude</th>\n",
       "      <th>latitude</th>\n",
       "      <th>housing_median_age</th>\n",
       "      <th>total_rooms</th>\n",
       "      <th>total_bedrooms</th>\n",
       "      <th>population</th>\n",
       "      <th>households</th>\n",
       "      <th>median_income</th>\n",
       "      <th>ocean_proximity_&lt;1H OCEAN</th>\n",
       "      <th>ocean_proximity_INLAND</th>\n",
       "      <th>ocean_proximity_ISLAND</th>\n",
       "      <th>ocean_proximity_NEAR BAY</th>\n",
       "      <th>ocean_proximity_NEAR OCEAN</th>\n",
       "    </tr>\n",
       "  </thead>\n",
       "  <tbody>\n",
       "    <tr>\n",
       "      <th>14005</th>\n",
       "      <td>-117.18</td>\n",
       "      <td>32.76</td>\n",
       "      <td>52.0</td>\n",
       "      <td>2023.0</td>\n",
       "      <td>301.0</td>\n",
       "      <td>649.0</td>\n",
       "      <td>285.0</td>\n",
       "      <td>4.7396</td>\n",
       "      <td>0</td>\n",
       "      <td>0</td>\n",
       "      <td>0</td>\n",
       "      <td>0</td>\n",
       "      <td>1</td>\n",
       "    </tr>\n",
       "    <tr>\n",
       "      <th>18601</th>\n",
       "      <td>-122.12</td>\n",
       "      <td>37.16</td>\n",
       "      <td>32.0</td>\n",
       "      <td>1602.0</td>\n",
       "      <td>317.0</td>\n",
       "      <td>752.0</td>\n",
       "      <td>275.0</td>\n",
       "      <td>5.1664</td>\n",
       "      <td>0</td>\n",
       "      <td>0</td>\n",
       "      <td>0</td>\n",
       "      <td>0</td>\n",
       "      <td>1</td>\n",
       "    </tr>\n",
       "    <tr>\n",
       "      <th>16357</th>\n",
       "      <td>-121.31</td>\n",
       "      <td>38.03</td>\n",
       "      <td>18.0</td>\n",
       "      <td>4893.0</td>\n",
       "      <td>1008.0</td>\n",
       "      <td>3036.0</td>\n",
       "      <td>997.0</td>\n",
       "      <td>2.5212</td>\n",
       "      <td>0</td>\n",
       "      <td>1</td>\n",
       "      <td>0</td>\n",
       "      <td>0</td>\n",
       "      <td>0</td>\n",
       "    </tr>\n",
       "    <tr>\n",
       "      <th>16622</th>\n",
       "      <td>-120.85</td>\n",
       "      <td>35.37</td>\n",
       "      <td>21.0</td>\n",
       "      <td>1033.0</td>\n",
       "      <td>195.0</td>\n",
       "      <td>588.0</td>\n",
       "      <td>187.0</td>\n",
       "      <td>2.8173</td>\n",
       "      <td>0</td>\n",
       "      <td>0</td>\n",
       "      <td>0</td>\n",
       "      <td>0</td>\n",
       "      <td>1</td>\n",
       "    </tr>\n",
       "    <tr>\n",
       "      <th>17128</th>\n",
       "      <td>-122.14</td>\n",
       "      <td>37.47</td>\n",
       "      <td>37.0</td>\n",
       "      <td>3373.0</td>\n",
       "      <td>815.0</td>\n",
       "      <td>2909.0</td>\n",
       "      <td>705.0</td>\n",
       "      <td>2.8868</td>\n",
       "      <td>0</td>\n",
       "      <td>0</td>\n",
       "      <td>0</td>\n",
       "      <td>1</td>\n",
       "      <td>0</td>\n",
       "    </tr>\n",
       "  </tbody>\n",
       "</table>\n",
       "</div>"
      ],
      "text/plain": [
       "       longitude  latitude  housing_median_age  total_rooms  total_bedrooms  \\\n",
       "14005    -117.18     32.76                52.0       2023.0           301.0   \n",
       "18601    -122.12     37.16                32.0       1602.0           317.0   \n",
       "16357    -121.31     38.03                18.0       4893.0          1008.0   \n",
       "16622    -120.85     35.37                21.0       1033.0           195.0   \n",
       "17128    -122.14     37.47                37.0       3373.0           815.0   \n",
       "\n",
       "       population  households  median_income  ocean_proximity_<1H OCEAN  \\\n",
       "14005       649.0       285.0         4.7396                          0   \n",
       "18601       752.0       275.0         5.1664                          0   \n",
       "16357      3036.0       997.0         2.5212                          0   \n",
       "16622       588.0       187.0         2.8173                          0   \n",
       "17128      2909.0       705.0         2.8868                          0   \n",
       "\n",
       "       ocean_proximity_INLAND  ocean_proximity_ISLAND  \\\n",
       "14005                       0                       0   \n",
       "18601                       0                       0   \n",
       "16357                       1                       0   \n",
       "16622                       0                       0   \n",
       "17128                       0                       0   \n",
       "\n",
       "       ocean_proximity_NEAR BAY  ocean_proximity_NEAR OCEAN  \n",
       "14005                         0                           1  \n",
       "18601                         0                           1  \n",
       "16357                         0                           0  \n",
       "16622                         0                           1  \n",
       "17128                         1                           0  "
      ]
     },
     "execution_count": 35,
     "metadata": {},
     "output_type": "execute_result"
    }
   ],
   "source": [
    "X.sample(5)"
   ]
  },
  {
   "cell_type": "code",
   "execution_count": 36,
   "metadata": {},
   "outputs": [
    {
     "data": {
      "text/plain": [
       "9524      True\n",
       "16993     True\n",
       "12771    False\n",
       "15200    False\n",
       "19929    False\n",
       "Name: above_median, dtype: bool"
      ]
     },
     "execution_count": 36,
     "metadata": {},
     "output_type": "execute_result"
    }
   ],
   "source": [
    "Y.sample(5)"
   ]
  },
  {
   "cell_type": "code",
   "execution_count": 37,
   "metadata": {},
   "outputs": [
    {
     "data": {
      "text/plain": [
       "Index(['longitude', 'latitude', 'housing_median_age', 'total_rooms',\n",
       "       'total_bedrooms', 'population', 'households', 'median_income',\n",
       "       'ocean_proximity_<1H OCEAN', 'ocean_proximity_INLAND',\n",
       "       'ocean_proximity_ISLAND', 'ocean_proximity_NEAR BAY',\n",
       "       'ocean_proximity_NEAR OCEAN'],\n",
       "      dtype='object')"
      ]
     },
     "execution_count": 37,
     "metadata": {},
     "output_type": "execute_result"
    }
   ],
   "source": [
    "X.columns"
   ]
  },
  {
   "cell_type": "code",
   "execution_count": 38,
   "metadata": {},
   "outputs": [],
   "source": [
    "from sklearn.model_selection import train_test_split\n",
    "\n",
    "x_train, x_test, y_train, y_test = train_test_split(X, Y, test_size = 0.2)"
   ]
  },
  {
   "cell_type": "code",
   "execution_count": 39,
   "metadata": {},
   "outputs": [
    {
     "data": {
      "text/plain": [
       "((15580, 13), (3895, 13))"
      ]
     },
     "execution_count": 39,
     "metadata": {},
     "output_type": "execute_result"
    }
   ],
   "source": [
    "x_train.shape, x_test.shape\n"
   ]
  },
  {
   "cell_type": "code",
   "execution_count": 40,
   "metadata": {},
   "outputs": [],
   "source": [
    "from sklearn.linear_model import LogisticRegression\n",
    "linear_model = LogisticRegression(solver = 'liblinear').fit(x_train, y_train)"
   ]
  },
  {
   "cell_type": "code",
   "execution_count": 41,
   "metadata": {},
   "outputs": [
    {
     "name": "stdout",
     "output_type": "stream",
     "text": [
      "Training score :0.8229139922978177\n",
      "Test score :0.8130937098844673\n"
     ]
    }
   ],
   "source": [
    "print(f'Training score :{linear_model.score(x_train, y_train)}')\n",
    "print(f'Test score :{linear_model.score(x_test, y_test)}')\n"
   ]
  },
  {
   "cell_type": "code",
   "execution_count": 43,
   "metadata": {},
   "outputs": [],
   "source": [
    "y_pred = linear_model.predict(x_test)"
   ]
  },
  {
   "cell_type": "code",
   "execution_count": 44,
   "metadata": {},
   "outputs": [],
   "source": [
    "df_pred_actual = pd.DataFrame({\"pred\" : y_pred, \"actual\" : y_test})"
   ]
  },
  {
   "cell_type": "code",
   "execution_count": 47,
   "metadata": {},
   "outputs": [
    {
     "data": {
      "text/html": [
       "<div>\n",
       "<style scoped>\n",
       "    .dataframe tbody tr th:only-of-type {\n",
       "        vertical-align: middle;\n",
       "    }\n",
       "\n",
       "    .dataframe tbody tr th {\n",
       "        vertical-align: top;\n",
       "    }\n",
       "\n",
       "    .dataframe thead th {\n",
       "        text-align: right;\n",
       "    }\n",
       "</style>\n",
       "<table border=\"1\" class=\"dataframe\">\n",
       "  <thead>\n",
       "    <tr style=\"text-align: right;\">\n",
       "      <th></th>\n",
       "      <th>pred</th>\n",
       "      <th>actual</th>\n",
       "    </tr>\n",
       "  </thead>\n",
       "  <tbody>\n",
       "    <tr>\n",
       "      <th>6806</th>\n",
       "      <td>False</td>\n",
       "      <td>True</td>\n",
       "    </tr>\n",
       "    <tr>\n",
       "      <th>14162</th>\n",
       "      <td>False</td>\n",
       "      <td>False</td>\n",
       "    </tr>\n",
       "    <tr>\n",
       "      <th>13227</th>\n",
       "      <td>False</td>\n",
       "      <td>False</td>\n",
       "    </tr>\n",
       "    <tr>\n",
       "      <th>535</th>\n",
       "      <td>True</td>\n",
       "      <td>True</td>\n",
       "    </tr>\n",
       "    <tr>\n",
       "      <th>12177</th>\n",
       "      <td>False</td>\n",
       "      <td>False</td>\n",
       "    </tr>\n",
       "    <tr>\n",
       "      <th>3128</th>\n",
       "      <td>False</td>\n",
       "      <td>False</td>\n",
       "    </tr>\n",
       "    <tr>\n",
       "      <th>8148</th>\n",
       "      <td>True</td>\n",
       "      <td>True</td>\n",
       "    </tr>\n",
       "    <tr>\n",
       "      <th>8625</th>\n",
       "      <td>True</td>\n",
       "      <td>True</td>\n",
       "    </tr>\n",
       "    <tr>\n",
       "      <th>8486</th>\n",
       "      <td>False</td>\n",
       "      <td>False</td>\n",
       "    </tr>\n",
       "    <tr>\n",
       "      <th>15272</th>\n",
       "      <td>True</td>\n",
       "      <td>True</td>\n",
       "    </tr>\n",
       "  </tbody>\n",
       "</table>\n",
       "</div>"
      ],
      "text/plain": [
       "        pred  actual\n",
       "6806   False    True\n",
       "14162  False   False\n",
       "13227  False   False\n",
       "535     True    True\n",
       "12177  False   False\n",
       "3128   False   False\n",
       "8148    True    True\n",
       "8625    True    True\n",
       "8486   False   False\n",
       "15272   True    True"
      ]
     },
     "execution_count": 47,
     "metadata": {},
     "output_type": "execute_result"
    }
   ],
   "source": [
    "df_pred_actual.head(10)"
   ]
  },
  {
   "cell_type": "code",
   "execution_count": 48,
   "metadata": {},
   "outputs": [
    {
     "name": "stdout",
     "output_type": "stream",
     "text": [
      "Testing score :0.8130937098844673\n"
     ]
    }
   ],
   "source": [
    "from sklearn.metrics import accuracy_score\n",
    "print(f'Testing score :{accuracy_score(y_test, y_pred)}')"
   ]
  },
  {
   "cell_type": "markdown",
   "metadata": {},
   "source": [
    "## The end"
   ]
  }
 ],
 "metadata": {
  "kernelspec": {
   "display_name": "Python 3.7.4 64-bit ('base': conda)",
   "language": "python",
   "name": "python37464bitbasecondaf4d5840153144c0ea89b244c4adb6c4a"
  },
  "language_info": {
   "codemirror_mode": {
    "name": "ipython",
    "version": 3
   },
   "file_extension": ".py",
   "mimetype": "text/x-python",
   "name": "python",
   "nbconvert_exporter": "python",
   "pygments_lexer": "ipython3",
   "version": "3.7.4"
  }
 },
 "nbformat": 4,
 "nbformat_minor": 2
}

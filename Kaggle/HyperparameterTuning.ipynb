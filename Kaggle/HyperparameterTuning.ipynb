{
 "cells": [
  {
   "cell_type": "code",
   "execution_count": 4,
   "metadata": {},
   "outputs": [],
   "source": [
    "import numpy as np\n",
    "import pandas as pd\n",
    "\n",
    "from sklearn.model_selection import train_test_split\n",
    "from sklearn.metrics import precision_score, recall_score, accuracy_score\n",
    "\n",
    "from sklearn.linear_model import LogisticRegression\n",
    "from sklearn.tree import DecisionTreeClassifier"
   ]
  },
  {
   "cell_type": "code",
   "execution_count": 2,
   "metadata": {},
   "outputs": [],
   "source": [
    " titanic_df = pd.read_csv('data/titanic/processed.csv')"
   ]
  },
  {
   "cell_type": "code",
   "execution_count": 7,
   "metadata": {},
   "outputs": [],
   "source": [
    "X = titanic_df.drop('Survived', axis=1)\n",
    "Y= titanic_df['Survived']\n",
    "\n",
    "x_train, x_test, y_train, y_test = train_test_split(X, Y, test_size=0.2)"
   ]
  },
  {
   "cell_type": "code",
   "execution_count": 8,
   "metadata": {},
   "outputs": [],
   "source": [
    "def summ_clf(y_test, y_pred):\n",
    "    acc = accuracy_score(y_test, y_pred, normalize=True)\n",
    "    num_acc = accuracy_score(y_test, y_pred, normalize=False)\n",
    "    \n",
    "    prec = precision_score(y_test, y_pred)\n",
    "    recall = recall_score(y_test, y_pred)\n",
    "    \n",
    "    return {'accuracy': acc,\n",
    "            'precision': prec,\n",
    "            'recall' : recall,\n",
    "            'accuracy_count' : num_acc}"
   ]
  },
  {
   "cell_type": "code",
   "execution_count": 9,
   "metadata": {},
   "outputs": [
    {
     "data": {
      "text/plain": [
       "{'max_depth': 4}"
      ]
     },
     "execution_count": 9,
     "metadata": {},
     "output_type": "execute_result"
    }
   ],
   "source": [
    "from sklearn.model_selection import GridSearchCV\n",
    "\n",
    "parameters = {'max_depth': [2,4,5,7,8,9,10]}\n",
    "\n",
    "grid = GridSearchCV(DecisionTreeClassifier(),parameters,cv=4, return_train_score=True)\n",
    "\n",
    "grid.fit(x_train, y_train)\n",
    "\n",
    "grid.best_params_"
   ]
  },
  {
   "cell_type": "code",
   "execution_count": 11,
   "metadata": {},
   "outputs": [
    {
     "name": "stdout",
     "output_type": "stream",
     "text": [
      "Params : {'max_depth': 2}\n",
      "Mean Test Score: 0.7943760984182777\n",
      "Rank : 2\n",
      "Params : {'max_depth': 4}\n",
      "Mean Test Score: 0.7961335676625659\n",
      "Rank : 1\n",
      "Params : {'max_depth': 5}\n",
      "Mean Test Score: 0.7785588752196837\n",
      "Rank : 3\n",
      "Params : {'max_depth': 7}\n",
      "Mean Test Score: 0.7715289982425307\n",
      "Rank : 5\n",
      "Params : {'max_depth': 8}\n",
      "Mean Test Score: 0.7785588752196837\n",
      "Rank : 3\n",
      "Params : {'max_depth': 9}\n",
      "Mean Test Score: 0.7680140597539543\n",
      "Rank : 7\n",
      "Params : {'max_depth': 10}\n",
      "Mean Test Score: 0.7715289982425307\n",
      "Rank : 5\n"
     ]
    }
   ],
   "source": [
    "for i in range(7):\n",
    "    \n",
    "    print('Params :', grid.cv_results_['params'][i])\n",
    "    \n",
    "    print('Mean Test Score:', grid.cv_results_['mean_test_score'][i])\n",
    "    \n",
    "    print('Rank :', grid.cv_results_['rank_test_score'][i])"
   ]
  },
  {
   "cell_type": "code",
   "execution_count": 12,
   "metadata": {},
   "outputs": [
    {
     "name": "stdout",
     "output_type": "stream",
     "text": [
      "{'accuracy': 0.8111888111888111, 'precision': 0.8857142857142857, 'recall': 0.5740740740740741, 'accuracy_count': 116}\n"
     ]
    }
   ],
   "source": [
    "model = DecisionTreeClassifier(max_depth=grid.best_params_['max_depth']).fit(x_train, y_train)\n",
    "\n",
    "y_pred = model.predict(x_test)\n",
    "\n",
    "print(summ_clf(y_test, y_pred))"
   ]
  },
  {
   "cell_type": "code",
   "execution_count": null,
   "metadata": {},
   "outputs": [],
   "source": []
  }
 ],
 "metadata": {
  "kernelspec": {
   "display_name": "Python 3.7.4 64-bit ('base': conda)",
   "language": "python",
   "name": "python37464bitbasecondaf4d5840153144c0ea89b244c4adb6c4a"
  },
  "language_info": {
   "codemirror_mode": {
    "name": "ipython",
    "version": 3
   },
   "file_extension": ".py",
   "mimetype": "text/x-python",
   "name": "python",
   "nbconvert_exporter": "python",
   "pygments_lexer": "ipython3",
   "version": "3.7.4"
  }
 },
 "nbformat": 4,
 "nbformat_minor": 4
}

{
 "cells": [
  {
   "cell_type": "code",
   "execution_count": 1,
   "metadata": {},
   "outputs": [
    {
     "name": "stderr",
     "output_type": "stream",
     "text": [
      "/Users/ankitbhardwaj/opt/anaconda3/lib/python3.7/importlib/_bootstrap.py:219: RuntimeWarning: numpy.ufunc size changed, may indicate binary incompatibility. Expected 192 from C header, got 216 from PyObject\n",
      "  return f(*args, **kwds)\n"
     ]
    }
   ],
   "source": [
    "import pandas as pd\n",
    "import numpy as np\n",
    "from sklearn.metrics import precision_score, recall_score, accuracy_score\n",
    "from sklearn.model_selection import train_test_split\n",
    "\n",
    "from sklearn.linear_model import LogisticRegression\n",
    "from sklearn.discriminant_analysis import LinearDiscriminantAnalysis\n",
    "from sklearn.discriminant_analysis import  QuadraticDiscriminantAnalysis\n",
    "from sklearn.linear_model import SGDClassifier\n",
    "from sklearn.svm import LinearSVC\n",
    "from sklearn.neighbors import RadiusNeighborsClassifier\n",
    "from sklearn.naive_bayes import GaussianNB\n",
    "from sklearn.tree import DecisionTreeClassifier\n"
   ]
  },
  {
   "cell_type": "code",
   "execution_count": 6,
   "metadata": {},
   "outputs": [
    {
     "data": {
      "text/html": [
       "<div>\n",
       "<style scoped>\n",
       "    .dataframe tbody tr th:only-of-type {\n",
       "        vertical-align: middle;\n",
       "    }\n",
       "\n",
       "    .dataframe tbody tr th {\n",
       "        vertical-align: top;\n",
       "    }\n",
       "\n",
       "    .dataframe thead th {\n",
       "        text-align: right;\n",
       "    }\n",
       "</style>\n",
       "<table border=\"1\" class=\"dataframe\">\n",
       "  <thead>\n",
       "    <tr style=\"text-align: right;\">\n",
       "      <th></th>\n",
       "      <th>Survived</th>\n",
       "      <th>Pclass</th>\n",
       "      <th>Sex</th>\n",
       "      <th>Age</th>\n",
       "      <th>SibSp</th>\n",
       "      <th>Parch</th>\n",
       "      <th>Fare</th>\n",
       "      <th>Embarked_C</th>\n",
       "      <th>Embarked_Q</th>\n",
       "      <th>Embarked_S</th>\n",
       "    </tr>\n",
       "  </thead>\n",
       "  <tbody>\n",
       "    <tr>\n",
       "      <th>0</th>\n",
       "      <td>0</td>\n",
       "      <td>2</td>\n",
       "      <td>1</td>\n",
       "      <td>27.0</td>\n",
       "      <td>0</td>\n",
       "      <td>0</td>\n",
       "      <td>26.000</td>\n",
       "      <td>0</td>\n",
       "      <td>0</td>\n",
       "      <td>1</td>\n",
       "    </tr>\n",
       "    <tr>\n",
       "      <th>1</th>\n",
       "      <td>1</td>\n",
       "      <td>2</td>\n",
       "      <td>0</td>\n",
       "      <td>30.0</td>\n",
       "      <td>3</td>\n",
       "      <td>0</td>\n",
       "      <td>21.000</td>\n",
       "      <td>0</td>\n",
       "      <td>0</td>\n",
       "      <td>1</td>\n",
       "    </tr>\n",
       "    <tr>\n",
       "      <th>2</th>\n",
       "      <td>0</td>\n",
       "      <td>2</td>\n",
       "      <td>1</td>\n",
       "      <td>23.0</td>\n",
       "      <td>0</td>\n",
       "      <td>0</td>\n",
       "      <td>13.000</td>\n",
       "      <td>0</td>\n",
       "      <td>0</td>\n",
       "      <td>1</td>\n",
       "    </tr>\n",
       "    <tr>\n",
       "      <th>3</th>\n",
       "      <td>1</td>\n",
       "      <td>3</td>\n",
       "      <td>0</td>\n",
       "      <td>4.0</td>\n",
       "      <td>0</td>\n",
       "      <td>2</td>\n",
       "      <td>22.025</td>\n",
       "      <td>0</td>\n",
       "      <td>0</td>\n",
       "      <td>1</td>\n",
       "    </tr>\n",
       "  </tbody>\n",
       "</table>\n",
       "</div>"
      ],
      "text/plain": [
       "   Survived  Pclass  Sex   Age  SibSp  Parch    Fare  Embarked_C  Embarked_Q  \\\n",
       "0         0       2    1  27.0      0      0  26.000           0           0   \n",
       "1         1       2    0  30.0      3      0  21.000           0           0   \n",
       "2         0       2    1  23.0      0      0  13.000           0           0   \n",
       "3         1       3    0   4.0      0      2  22.025           0           0   \n",
       "\n",
       "   Embarked_S  \n",
       "0           1  \n",
       "1           1  \n",
       "2           1  \n",
       "3           1  "
      ]
     },
     "execution_count": 6,
     "metadata": {},
     "output_type": "execute_result"
    }
   ],
   "source": [
    "titanic_df = pd.read_csv('data/titanic/processed.csv')\n",
    "\n",
    "titanic_df.head(4)"
   ]
  },
  {
   "cell_type": "code",
   "execution_count": 8,
   "metadata": {},
   "outputs": [
    {
     "data": {
      "text/plain": [
       "Index(['Pclass', 'Sex', 'Age', 'SibSp', 'Parch', 'Fare', 'Embarked_C',\n",
       "       'Embarked_Q', 'Embarked_S'],\n",
       "      dtype='object')"
      ]
     },
     "execution_count": 8,
     "metadata": {},
     "output_type": "execute_result"
    }
   ],
   "source": [
    "FEATURES = titanic_df.columns[1:]\n",
    "\n",
    "FEATURES"
   ]
  },
  {
   "cell_type": "code",
   "execution_count": 9,
   "metadata": {},
   "outputs": [],
   "source": [
    "def summ_clf(y_test, y_pred):\n",
    "    acc = accuracy_score(y_test, y_pred, normalize=True)\n",
    "    num_acc = accuracy_score(y_test, y_pred, normalize=False)\n",
    "    \n",
    "    prec = precision_score(y_test, y_pred)\n",
    "    recall = recall_score(y_test, y_pred)\n",
    "    \n",
    "    return {'accuracy': acc,\n",
    "            'precision': prec,\n",
    "            'recall' : recall,\n",
    "            'accuracy_count' : num_acc}"
   ]
  },
  {
   "cell_type": "code",
   "execution_count": 16,
   "metadata": {},
   "outputs": [],
   "source": [
    "def build_model(classifier_fn,\n",
    "               name_of_y_col,\n",
    "               name_of_x_cols,\n",
    "               dataset,\n",
    "               test_frac = 0.2):\n",
    "    X = dataset[name_of_x_cols]\n",
    "    Y = dataset[name_of_y_col]\n",
    "    \n",
    "    x_train, x_test, y_train, y_test = train_test_split(X, Y, test_size = test_frac)\n",
    "    \n",
    "    model = classifier_fn(x_train, y_train)\n",
    "    \n",
    "    y_pred = model.predict(x_test)\n",
    "    \n",
    "    y_pred_train = model.predict(x_train)\n",
    "    \n",
    "    train_summary = summ_clf(y_train, y_pred_train)\n",
    "    test_summary  = summ_clf(y_test, y_pred)\n",
    "    \n",
    "    pred_res = pd.DataFrame({\"pred\": y_pred, \"actual\": y_test})\n",
    "    \n",
    "    #confusion matrix\n",
    "    \n",
    "    model_crosstab = pd.crosstab(pred_res.pred, pred_res.actual)\n",
    "    \n",
    "    return {\"training\": train_summary,\n",
    "            \"test\" : test_summary,\n",
    "            \"confusion_matrix\": model_crosstab}\n",
    "    "
   ]
  },
  {
   "cell_type": "code",
   "execution_count": 17,
   "metadata": {},
   "outputs": [],
   "source": [
    "result_dict ={}"
   ]
  },
  {
   "cell_type": "code",
   "execution_count": 18,
   "metadata": {},
   "outputs": [],
   "source": [
    "def compare_results():\n",
    "    for key in result_dict:\n",
    "        print('classification:' , key)\n",
    "    \n",
    "        print()\n",
    "        print('Training data')\n",
    "        for score in result_dict[key]['training']:\n",
    "            print(score, result_dict[key]['training'][score])\n",
    "            \n",
    "        print()\n",
    "        print('Test data')\n",
    "        for score in result_dict[key]['test']:\n",
    "            print(score, result_dict[key]['test'][score])\n",
    "            \n",
    "        print()\n",
    "            "
   ]
  },
  {
   "cell_type": "code",
   "execution_count": 19,
   "metadata": {},
   "outputs": [],
   "source": [
    "def logistic_fn(x_train, y_train):\n",
    "    \n",
    "    model = LogisticRegression(solver='liblinear')\n",
    "    model.fit(x_train, y_train)\n",
    "    \n",
    "    return model"
   ]
  },
  {
   "cell_type": "code",
   "execution_count": 20,
   "metadata": {},
   "outputs": [
    {
     "name": "stdout",
     "output_type": "stream",
     "text": [
      "classification: survived - logistic\n",
      "\n",
      "Training data\n",
      "accuracy 0.7961335676625659\n",
      "precision 0.7793427230046949\n",
      "recall 0.7063829787234043\n",
      "accuracy_count 453\n",
      "\n",
      "Test data\n",
      "accuracy 0.7902097902097902\n",
      "precision 0.7446808510638298\n",
      "recall 0.660377358490566\n",
      "accuracy_count 113\n",
      "\n"
     ]
    }
   ],
   "source": [
    "result_dict['survived - logistic'] = build_model(logistic_fn,\n",
    "                                                'Survived',\n",
    "                                                FEATURES,\n",
    "                                                titanic_df)\n",
    "\n",
    "compare_results()"
   ]
  },
  {
   "cell_type": "code",
   "execution_count": 23,
   "metadata": {},
   "outputs": [],
   "source": [
    "def linear_discriminant_fn(x_train, y_train, solver = 'svd'):\n",
    "    model = LinearDiscriminantAnalysis(solver=solver)\n",
    "    model.fit(x_train, y_train)\n",
    "    \n",
    "    return model"
   ]
  },
  {
   "cell_type": "code",
   "execution_count": 25,
   "metadata": {},
   "outputs": [
    {
     "name": "stdout",
     "output_type": "stream",
     "text": [
      "classification: survived - logistic\n",
      "\n",
      "Training data\n",
      "accuracy 0.7961335676625659\n",
      "precision 0.7793427230046949\n",
      "recall 0.7063829787234043\n",
      "accuracy_count 453\n",
      "\n",
      "Test data\n",
      "accuracy 0.7902097902097902\n",
      "precision 0.7446808510638298\n",
      "recall 0.660377358490566\n",
      "accuracy_count 113\n",
      "\n",
      "classification: survived - linear_discriminant_analysis\n",
      "\n",
      "Training data\n",
      "accuracy 0.7873462214411248\n",
      "precision 0.7627906976744186\n",
      "recall 0.7008547008547008\n",
      "accuracy_count 448\n",
      "\n",
      "Test data\n",
      "accuracy 0.8321678321678322\n",
      "precision 0.8125\n",
      "recall 0.7222222222222222\n",
      "accuracy_count 119\n",
      "\n"
     ]
    }
   ],
   "source": [
    "result_dict['survived - linear_discriminant_analysis'] = build_model(linear_discriminant_fn,\n",
    "                                                'Survived',\n",
    "                                                FEATURES[0:-1],\n",
    "                                                titanic_df)\n",
    "\n",
    "compare_results()"
   ]
  },
  {
   "cell_type": "code",
   "execution_count": 26,
   "metadata": {},
   "outputs": [
    {
     "name": "stdout",
     "output_type": "stream",
     "text": [
      "classification: survived - logistic\n",
      "\n",
      "Training data\n",
      "accuracy 0.7961335676625659\n",
      "precision 0.7793427230046949\n",
      "recall 0.7063829787234043\n",
      "accuracy_count 453\n",
      "\n",
      "Test data\n",
      "accuracy 0.7902097902097902\n",
      "precision 0.7446808510638298\n",
      "recall 0.660377358490566\n",
      "accuracy_count 113\n",
      "\n",
      "classification: survived - linear_discriminant_analysis\n",
      "\n",
      "Training data\n",
      "accuracy 0.7873462214411248\n",
      "precision 0.7627906976744186\n",
      "recall 0.7008547008547008\n",
      "accuracy_count 448\n",
      "\n",
      "Test data\n",
      "accuracy 0.8321678321678322\n",
      "precision 0.8125\n",
      "recall 0.7222222222222222\n",
      "accuracy_count 119\n",
      "\n",
      "classification: survived - quad_discriminant_analysis\n",
      "\n",
      "Training data\n",
      "accuracy 0.7926186291739895\n",
      "precision 0.7510729613733905\n",
      "recall 0.7446808510638298\n",
      "accuracy_count 451\n",
      "\n",
      "Test data\n",
      "accuracy 0.7902097902097902\n",
      "precision 0.7017543859649122\n",
      "recall 0.7547169811320755\n",
      "accuracy_count 113\n",
      "\n"
     ]
    }
   ],
   "source": [
    "def quad_discriminant_fn(x_train, y_train):\n",
    "    model = QuadraticDiscriminantAnalysis()\n",
    "    model.fit(x_train, y_train)\n",
    "    \n",
    "    return model\n",
    "\n",
    "result_dict['survived - quad_discriminant_analysis'] = build_model(quad_discriminant_fn,\n",
    "                                                'Survived',\n",
    "                                                FEATURES[0:-1],\n",
    "                                                titanic_df)\n",
    "\n",
    "compare_results()"
   ]
  },
  {
   "cell_type": "code",
   "execution_count": null,
   "metadata": {},
   "outputs": [],
   "source": []
  }
 ],
 "metadata": {
  "kernelspec": {
   "display_name": "Python 3.7.4 64-bit ('base': conda)",
   "language": "python",
   "name": "python37464bitbasecondaf4d5840153144c0ea89b244c4adb6c4a"
  },
  "language_info": {
   "codemirror_mode": {
    "name": "ipython",
    "version": 3
   },
   "file_extension": ".py",
   "mimetype": "text/x-python",
   "name": "python",
   "nbconvert_exporter": "python",
   "pygments_lexer": "ipython3",
   "version": "3.7.4"
  }
 },
 "nbformat": 4,
 "nbformat_minor": 4
}

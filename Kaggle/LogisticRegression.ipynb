{
 "cells": [
  {
   "cell_type": "code",
   "execution_count": 1,
   "metadata": {},
   "outputs": [],
   "source": [
    "import pandas as pd\n",
    "\n",
    "import matplotlib.pyplot as plt"
   ]
  },
  {
   "cell_type": "code",
   "execution_count": 2,
   "metadata": {},
   "outputs": [],
   "source": [
    "housing_data = pd.read_csv('data/housing.csv').dropna()"
   ]
  },
  {
   "cell_type": "code",
   "execution_count": 3,
   "metadata": {},
   "outputs": [
    {
     "data": {
      "text/html": [
       "<div>\n",
       "<style scoped>\n",
       "    .dataframe tbody tr th:only-of-type {\n",
       "        vertical-align: middle;\n",
       "    }\n",
       "\n",
       "    .dataframe tbody tr th {\n",
       "        vertical-align: top;\n",
       "    }\n",
       "\n",
       "    .dataframe thead th {\n",
       "        text-align: right;\n",
       "    }\n",
       "</style>\n",
       "<table border=\"1\" class=\"dataframe\">\n",
       "  <thead>\n",
       "    <tr style=\"text-align: right;\">\n",
       "      <th></th>\n",
       "      <th>longitude</th>\n",
       "      <th>latitude</th>\n",
       "      <th>housing_median_age</th>\n",
       "      <th>total_rooms</th>\n",
       "      <th>total_bedrooms</th>\n",
       "      <th>population</th>\n",
       "      <th>households</th>\n",
       "      <th>median_income</th>\n",
       "      <th>median_house_value</th>\n",
       "      <th>ocean_proximity</th>\n",
       "    </tr>\n",
       "  </thead>\n",
       "  <tbody>\n",
       "    <tr>\n",
       "      <th>11782</th>\n",
       "      <td>-121.24</td>\n",
       "      <td>38.78</td>\n",
       "      <td>18.0</td>\n",
       "      <td>549.0</td>\n",
       "      <td>143.0</td>\n",
       "      <td>249.0</td>\n",
       "      <td>136.0</td>\n",
       "      <td>0.8691</td>\n",
       "      <td>136500.0</td>\n",
       "      <td>INLAND</td>\n",
       "    </tr>\n",
       "    <tr>\n",
       "      <th>1219</th>\n",
       "      <td>-120.91</td>\n",
       "      <td>38.11</td>\n",
       "      <td>9.0</td>\n",
       "      <td>3585.0</td>\n",
       "      <td>680.0</td>\n",
       "      <td>1800.0</td>\n",
       "      <td>598.0</td>\n",
       "      <td>3.6360</td>\n",
       "      <td>133100.0</td>\n",
       "      <td>INLAND</td>\n",
       "    </tr>\n",
       "    <tr>\n",
       "      <th>3232</th>\n",
       "      <td>-119.69</td>\n",
       "      <td>36.25</td>\n",
       "      <td>35.0</td>\n",
       "      <td>2011.0</td>\n",
       "      <td>349.0</td>\n",
       "      <td>970.0</td>\n",
       "      <td>300.0</td>\n",
       "      <td>2.3950</td>\n",
       "      <td>94100.0</td>\n",
       "      <td>INLAND</td>\n",
       "    </tr>\n",
       "    <tr>\n",
       "      <th>9586</th>\n",
       "      <td>-120.47</td>\n",
       "      <td>37.32</td>\n",
       "      <td>15.0</td>\n",
       "      <td>3952.0</td>\n",
       "      <td>984.0</td>\n",
       "      <td>2024.0</td>\n",
       "      <td>1026.0</td>\n",
       "      <td>2.5580</td>\n",
       "      <td>121600.0</td>\n",
       "      <td>INLAND</td>\n",
       "    </tr>\n",
       "    <tr>\n",
       "      <th>6338</th>\n",
       "      <td>-117.88</td>\n",
       "      <td>33.96</td>\n",
       "      <td>16.0</td>\n",
       "      <td>19059.0</td>\n",
       "      <td>3079.0</td>\n",
       "      <td>10988.0</td>\n",
       "      <td>3061.0</td>\n",
       "      <td>5.5469</td>\n",
       "      <td>265200.0</td>\n",
       "      <td>&lt;1H OCEAN</td>\n",
       "    </tr>\n",
       "  </tbody>\n",
       "</table>\n",
       "</div>"
      ],
      "text/plain": [
       "       longitude  latitude  housing_median_age  total_rooms  total_bedrooms  \\\n",
       "11782    -121.24     38.78                18.0        549.0           143.0   \n",
       "1219     -120.91     38.11                 9.0       3585.0           680.0   \n",
       "3232     -119.69     36.25                35.0       2011.0           349.0   \n",
       "9586     -120.47     37.32                15.0       3952.0           984.0   \n",
       "6338     -117.88     33.96                16.0      19059.0          3079.0   \n",
       "\n",
       "       population  households  median_income  median_house_value  \\\n",
       "11782       249.0       136.0         0.8691            136500.0   \n",
       "1219       1800.0       598.0         3.6360            133100.0   \n",
       "3232        970.0       300.0         2.3950             94100.0   \n",
       "9586       2024.0      1026.0         2.5580            121600.0   \n",
       "6338      10988.0      3061.0         5.5469            265200.0   \n",
       "\n",
       "      ocean_proximity  \n",
       "11782          INLAND  \n",
       "1219           INLAND  \n",
       "3232           INLAND  \n",
       "9586           INLAND  \n",
       "6338        <1H OCEAN  "
      ]
     },
     "execution_count": 3,
     "metadata": {},
     "output_type": "execute_result"
    }
   ],
   "source": [
    "housing_data.sample(5)"
   ]
  },
  {
   "cell_type": "code",
   "execution_count": 4,
   "metadata": {},
   "outputs": [],
   "source": [
    "drop_index = housing_data.loc[housing_data['median_house_value'] == 500001].index"
   ]
  },
  {
   "cell_type": "code",
   "execution_count": 5,
   "metadata": {},
   "outputs": [],
   "source": [
    "housing_data = housing_data.drop(drop_index)"
   ]
  },
  {
   "cell_type": "code",
   "execution_count": 6,
   "metadata": {},
   "outputs": [
    {
     "data": {
      "text/plain": [
       "(19475, 10)"
      ]
     },
     "execution_count": 6,
     "metadata": {},
     "output_type": "execute_result"
    }
   ],
   "source": [
    "housing_data.shape"
   ]
  },
  {
   "cell_type": "code",
   "execution_count": 7,
   "metadata": {},
   "outputs": [],
   "source": [
    "housing_data = pd.get_dummies(housing_data, columns=['ocean_proximity'])"
   ]
  },
  {
   "cell_type": "code",
   "execution_count": 8,
   "metadata": {},
   "outputs": [
    {
     "data": {
      "text/plain": [
       "(19475, 14)"
      ]
     },
     "execution_count": 8,
     "metadata": {},
     "output_type": "execute_result"
    }
   ],
   "source": [
    "housing_data.shape"
   ]
  },
  {
   "cell_type": "code",
   "execution_count": 9,
   "metadata": {},
   "outputs": [
    {
     "data": {
      "text/html": [
       "<div>\n",
       "<style scoped>\n",
       "    .dataframe tbody tr th:only-of-type {\n",
       "        vertical-align: middle;\n",
       "    }\n",
       "\n",
       "    .dataframe tbody tr th {\n",
       "        vertical-align: top;\n",
       "    }\n",
       "\n",
       "    .dataframe thead th {\n",
       "        text-align: right;\n",
       "    }\n",
       "</style>\n",
       "<table border=\"1\" class=\"dataframe\">\n",
       "  <thead>\n",
       "    <tr style=\"text-align: right;\">\n",
       "      <th></th>\n",
       "      <th>longitude</th>\n",
       "      <th>latitude</th>\n",
       "      <th>housing_median_age</th>\n",
       "      <th>total_rooms</th>\n",
       "      <th>total_bedrooms</th>\n",
       "      <th>population</th>\n",
       "      <th>households</th>\n",
       "      <th>median_income</th>\n",
       "      <th>median_house_value</th>\n",
       "      <th>ocean_proximity_&lt;1H OCEAN</th>\n",
       "      <th>ocean_proximity_INLAND</th>\n",
       "      <th>ocean_proximity_ISLAND</th>\n",
       "      <th>ocean_proximity_NEAR BAY</th>\n",
       "      <th>ocean_proximity_NEAR OCEAN</th>\n",
       "    </tr>\n",
       "  </thead>\n",
       "  <tbody>\n",
       "    <tr>\n",
       "      <th>1783</th>\n",
       "      <td>-122.36</td>\n",
       "      <td>37.94</td>\n",
       "      <td>26.0</td>\n",
       "      <td>1540.0</td>\n",
       "      <td>343.0</td>\n",
       "      <td>1007.0</td>\n",
       "      <td>338.0</td>\n",
       "      <td>1.3365</td>\n",
       "      <td>72900.0</td>\n",
       "      <td>0</td>\n",
       "      <td>0</td>\n",
       "      <td>0</td>\n",
       "      <td>1</td>\n",
       "      <td>0</td>\n",
       "    </tr>\n",
       "    <tr>\n",
       "      <th>6605</th>\n",
       "      <td>-118.17</td>\n",
       "      <td>34.19</td>\n",
       "      <td>45.0</td>\n",
       "      <td>1790.0</td>\n",
       "      <td>316.0</td>\n",
       "      <td>1035.0</td>\n",
       "      <td>312.0</td>\n",
       "      <td>4.0985</td>\n",
       "      <td>173100.0</td>\n",
       "      <td>1</td>\n",
       "      <td>0</td>\n",
       "      <td>0</td>\n",
       "      <td>0</td>\n",
       "      <td>0</td>\n",
       "    </tr>\n",
       "    <tr>\n",
       "      <th>12658</th>\n",
       "      <td>-121.44</td>\n",
       "      <td>38.51</td>\n",
       "      <td>27.0</td>\n",
       "      <td>7212.0</td>\n",
       "      <td>1606.0</td>\n",
       "      <td>4828.0</td>\n",
       "      <td>1549.0</td>\n",
       "      <td>2.2140</td>\n",
       "      <td>82400.0</td>\n",
       "      <td>0</td>\n",
       "      <td>1</td>\n",
       "      <td>0</td>\n",
       "      <td>0</td>\n",
       "      <td>0</td>\n",
       "    </tr>\n",
       "    <tr>\n",
       "      <th>18906</th>\n",
       "      <td>-122.26</td>\n",
       "      <td>38.15</td>\n",
       "      <td>26.0</td>\n",
       "      <td>3699.0</td>\n",
       "      <td>671.0</td>\n",
       "      <td>2388.0</td>\n",
       "      <td>699.0</td>\n",
       "      <td>4.0515</td>\n",
       "      <td>121900.0</td>\n",
       "      <td>0</td>\n",
       "      <td>0</td>\n",
       "      <td>0</td>\n",
       "      <td>1</td>\n",
       "      <td>0</td>\n",
       "    </tr>\n",
       "    <tr>\n",
       "      <th>9500</th>\n",
       "      <td>-123.69</td>\n",
       "      <td>38.90</td>\n",
       "      <td>17.0</td>\n",
       "      <td>2206.0</td>\n",
       "      <td>478.0</td>\n",
       "      <td>1140.0</td>\n",
       "      <td>428.0</td>\n",
       "      <td>2.1985</td>\n",
       "      <td>95300.0</td>\n",
       "      <td>0</td>\n",
       "      <td>0</td>\n",
       "      <td>0</td>\n",
       "      <td>0</td>\n",
       "      <td>1</td>\n",
       "    </tr>\n",
       "    <tr>\n",
       "      <th>19388</th>\n",
       "      <td>-120.87</td>\n",
       "      <td>37.76</td>\n",
       "      <td>16.0</td>\n",
       "      <td>2022.0</td>\n",
       "      <td>413.0</td>\n",
       "      <td>1126.0</td>\n",
       "      <td>408.0</td>\n",
       "      <td>2.5655</td>\n",
       "      <td>116400.0</td>\n",
       "      <td>0</td>\n",
       "      <td>1</td>\n",
       "      <td>0</td>\n",
       "      <td>0</td>\n",
       "      <td>0</td>\n",
       "    </tr>\n",
       "  </tbody>\n",
       "</table>\n",
       "</div>"
      ],
      "text/plain": [
       "       longitude  latitude  housing_median_age  total_rooms  total_bedrooms  \\\n",
       "1783     -122.36     37.94                26.0       1540.0           343.0   \n",
       "6605     -118.17     34.19                45.0       1790.0           316.0   \n",
       "12658    -121.44     38.51                27.0       7212.0          1606.0   \n",
       "18906    -122.26     38.15                26.0       3699.0           671.0   \n",
       "9500     -123.69     38.90                17.0       2206.0           478.0   \n",
       "19388    -120.87     37.76                16.0       2022.0           413.0   \n",
       "\n",
       "       population  households  median_income  median_house_value  \\\n",
       "1783       1007.0       338.0         1.3365             72900.0   \n",
       "6605       1035.0       312.0         4.0985            173100.0   \n",
       "12658      4828.0      1549.0         2.2140             82400.0   \n",
       "18906      2388.0       699.0         4.0515            121900.0   \n",
       "9500       1140.0       428.0         2.1985             95300.0   \n",
       "19388      1126.0       408.0         2.5655            116400.0   \n",
       "\n",
       "       ocean_proximity_<1H OCEAN  ocean_proximity_INLAND  \\\n",
       "1783                           0                       0   \n",
       "6605                           1                       0   \n",
       "12658                          0                       1   \n",
       "18906                          0                       0   \n",
       "9500                           0                       0   \n",
       "19388                          0                       1   \n",
       "\n",
       "       ocean_proximity_ISLAND  ocean_proximity_NEAR BAY  \\\n",
       "1783                        0                         1   \n",
       "6605                        0                         0   \n",
       "12658                       0                         0   \n",
       "18906                       0                         1   \n",
       "9500                        0                         0   \n",
       "19388                       0                         0   \n",
       "\n",
       "       ocean_proximity_NEAR OCEAN  \n",
       "1783                            0  \n",
       "6605                            0  \n",
       "12658                           0  \n",
       "18906                           0  \n",
       "9500                            1  \n",
       "19388                           0  "
      ]
     },
     "execution_count": 9,
     "metadata": {},
     "output_type": "execute_result"
    }
   ],
   "source": [
    "housing_data.sample(6)"
   ]
  },
  {
   "cell_type": "code",
   "execution_count": 10,
   "metadata": {},
   "outputs": [
    {
     "data": {
      "text/plain": [
       "173800.0"
      ]
     },
     "execution_count": 10,
     "metadata": {},
     "output_type": "execute_result"
    }
   ],
   "source": [
    "median = housing_data['median_house_value'].median()\n",
    "\n",
    "median"
   ]
  },
  {
   "cell_type": "code",
   "execution_count": 11,
   "metadata": {},
   "outputs": [],
   "source": [
    "housing_data['above_median'] = (housing_data['median_house_value'] - median > 0)"
   ]
  },
  {
   "cell_type": "code",
   "execution_count": 12,
   "metadata": {},
   "outputs": [
    {
     "data": {
      "text/plain": [
       "(19475, 15)"
      ]
     },
     "execution_count": 12,
     "metadata": {},
     "output_type": "execute_result"
    }
   ],
   "source": [
    "housing_data.shape"
   ]
  },
  {
   "cell_type": "code",
   "execution_count": 13,
   "metadata": {},
   "outputs": [
    {
     "data": {
      "text/html": [
       "<div>\n",
       "<style scoped>\n",
       "    .dataframe tbody tr th:only-of-type {\n",
       "        vertical-align: middle;\n",
       "    }\n",
       "\n",
       "    .dataframe tbody tr th {\n",
       "        vertical-align: top;\n",
       "    }\n",
       "\n",
       "    .dataframe thead th {\n",
       "        text-align: right;\n",
       "    }\n",
       "</style>\n",
       "<table border=\"1\" class=\"dataframe\">\n",
       "  <thead>\n",
       "    <tr style=\"text-align: right;\">\n",
       "      <th></th>\n",
       "      <th>longitude</th>\n",
       "      <th>latitude</th>\n",
       "      <th>housing_median_age</th>\n",
       "      <th>total_rooms</th>\n",
       "      <th>total_bedrooms</th>\n",
       "      <th>population</th>\n",
       "      <th>households</th>\n",
       "      <th>median_income</th>\n",
       "      <th>median_house_value</th>\n",
       "      <th>ocean_proximity_&lt;1H OCEAN</th>\n",
       "      <th>ocean_proximity_INLAND</th>\n",
       "      <th>ocean_proximity_ISLAND</th>\n",
       "      <th>ocean_proximity_NEAR BAY</th>\n",
       "      <th>ocean_proximity_NEAR OCEAN</th>\n",
       "      <th>above_median</th>\n",
       "    </tr>\n",
       "  </thead>\n",
       "  <tbody>\n",
       "    <tr>\n",
       "      <th>18604</th>\n",
       "      <td>-122.11</td>\n",
       "      <td>37.11</td>\n",
       "      <td>46.0</td>\n",
       "      <td>1993.0</td>\n",
       "      <td>404.0</td>\n",
       "      <td>850.0</td>\n",
       "      <td>327.0</td>\n",
       "      <td>5.2080</td>\n",
       "      <td>206800.0</td>\n",
       "      <td>0</td>\n",
       "      <td>0</td>\n",
       "      <td>0</td>\n",
       "      <td>0</td>\n",
       "      <td>1</td>\n",
       "      <td>True</td>\n",
       "    </tr>\n",
       "    <tr>\n",
       "      <th>6843</th>\n",
       "      <td>-118.13</td>\n",
       "      <td>34.07</td>\n",
       "      <td>20.0</td>\n",
       "      <td>2130.0</td>\n",
       "      <td>654.0</td>\n",
       "      <td>1870.0</td>\n",
       "      <td>578.0</td>\n",
       "      <td>2.3664</td>\n",
       "      <td>192200.0</td>\n",
       "      <td>1</td>\n",
       "      <td>0</td>\n",
       "      <td>0</td>\n",
       "      <td>0</td>\n",
       "      <td>0</td>\n",
       "      <td>True</td>\n",
       "    </tr>\n",
       "    <tr>\n",
       "      <th>6303</th>\n",
       "      <td>-117.90</td>\n",
       "      <td>33.99</td>\n",
       "      <td>18.0</td>\n",
       "      <td>8076.0</td>\n",
       "      <td>1789.0</td>\n",
       "      <td>5325.0</td>\n",
       "      <td>1707.0</td>\n",
       "      <td>3.4430</td>\n",
       "      <td>171900.0</td>\n",
       "      <td>1</td>\n",
       "      <td>0</td>\n",
       "      <td>0</td>\n",
       "      <td>0</td>\n",
       "      <td>0</td>\n",
       "      <td>False</td>\n",
       "    </tr>\n",
       "    <tr>\n",
       "      <th>18229</th>\n",
       "      <td>-122.09</td>\n",
       "      <td>37.40</td>\n",
       "      <td>22.0</td>\n",
       "      <td>1489.0</td>\n",
       "      <td>436.0</td>\n",
       "      <td>662.0</td>\n",
       "      <td>470.0</td>\n",
       "      <td>3.5179</td>\n",
       "      <td>197200.0</td>\n",
       "      <td>0</td>\n",
       "      <td>0</td>\n",
       "      <td>0</td>\n",
       "      <td>1</td>\n",
       "      <td>0</td>\n",
       "      <td>True</td>\n",
       "    </tr>\n",
       "    <tr>\n",
       "      <th>12962</th>\n",
       "      <td>-121.31</td>\n",
       "      <td>38.72</td>\n",
       "      <td>11.0</td>\n",
       "      <td>2306.0</td>\n",
       "      <td>420.0</td>\n",
       "      <td>1308.0</td>\n",
       "      <td>418.0</td>\n",
       "      <td>3.9506</td>\n",
       "      <td>122200.0</td>\n",
       "      <td>0</td>\n",
       "      <td>1</td>\n",
       "      <td>0</td>\n",
       "      <td>0</td>\n",
       "      <td>0</td>\n",
       "      <td>False</td>\n",
       "    </tr>\n",
       "  </tbody>\n",
       "</table>\n",
       "</div>"
      ],
      "text/plain": [
       "       longitude  latitude  housing_median_age  total_rooms  total_bedrooms  \\\n",
       "18604    -122.11     37.11                46.0       1993.0           404.0   \n",
       "6843     -118.13     34.07                20.0       2130.0           654.0   \n",
       "6303     -117.90     33.99                18.0       8076.0          1789.0   \n",
       "18229    -122.09     37.40                22.0       1489.0           436.0   \n",
       "12962    -121.31     38.72                11.0       2306.0           420.0   \n",
       "\n",
       "       population  households  median_income  median_house_value  \\\n",
       "18604       850.0       327.0         5.2080            206800.0   \n",
       "6843       1870.0       578.0         2.3664            192200.0   \n",
       "6303       5325.0      1707.0         3.4430            171900.0   \n",
       "18229       662.0       470.0         3.5179            197200.0   \n",
       "12962      1308.0       418.0         3.9506            122200.0   \n",
       "\n",
       "       ocean_proximity_<1H OCEAN  ocean_proximity_INLAND  \\\n",
       "18604                          0                       0   \n",
       "6843                           1                       0   \n",
       "6303                           1                       0   \n",
       "18229                          0                       0   \n",
       "12962                          0                       1   \n",
       "\n",
       "       ocean_proximity_ISLAND  ocean_proximity_NEAR BAY  \\\n",
       "18604                       0                         0   \n",
       "6843                        0                         0   \n",
       "6303                        0                         0   \n",
       "18229                       0                         1   \n",
       "12962                       0                         0   \n",
       "\n",
       "       ocean_proximity_NEAR OCEAN  above_median  \n",
       "18604                           1          True  \n",
       "6843                            0          True  \n",
       "6303                            0         False  \n",
       "18229                           0          True  \n",
       "12962                           0         False  "
      ]
     },
     "execution_count": 13,
     "metadata": {},
     "output_type": "execute_result"
    }
   ],
   "source": [
    "housing_data.sample(5)"
   ]
  },
  {
   "cell_type": "code",
   "execution_count": 14,
   "metadata": {},
   "outputs": [],
   "source": [
    "X = housing_data.drop(['above_median', 'median_house_value'], axis =1)\n",
    "Y = housing_data['above_median']"
   ]
  },
  {
   "cell_type": "code",
   "execution_count": 15,
   "metadata": {},
   "outputs": [
    {
     "data": {
      "text/plain": [
       "((19475, 13), (19475,))"
      ]
     },
     "execution_count": 15,
     "metadata": {},
     "output_type": "execute_result"
    }
   ],
   "source": [
    "X.shape , Y.shape"
   ]
  },
  {
   "cell_type": "code",
   "execution_count": 16,
   "metadata": {},
   "outputs": [
    {
     "data": {
      "text/html": [
       "<div>\n",
       "<style scoped>\n",
       "    .dataframe tbody tr th:only-of-type {\n",
       "        vertical-align: middle;\n",
       "    }\n",
       "\n",
       "    .dataframe tbody tr th {\n",
       "        vertical-align: top;\n",
       "    }\n",
       "\n",
       "    .dataframe thead th {\n",
       "        text-align: right;\n",
       "    }\n",
       "</style>\n",
       "<table border=\"1\" class=\"dataframe\">\n",
       "  <thead>\n",
       "    <tr style=\"text-align: right;\">\n",
       "      <th></th>\n",
       "      <th>longitude</th>\n",
       "      <th>latitude</th>\n",
       "      <th>housing_median_age</th>\n",
       "      <th>total_rooms</th>\n",
       "      <th>total_bedrooms</th>\n",
       "      <th>population</th>\n",
       "      <th>households</th>\n",
       "      <th>median_income</th>\n",
       "      <th>ocean_proximity_&lt;1H OCEAN</th>\n",
       "      <th>ocean_proximity_INLAND</th>\n",
       "      <th>ocean_proximity_ISLAND</th>\n",
       "      <th>ocean_proximity_NEAR BAY</th>\n",
       "      <th>ocean_proximity_NEAR OCEAN</th>\n",
       "    </tr>\n",
       "  </thead>\n",
       "  <tbody>\n",
       "    <tr>\n",
       "      <th>7909</th>\n",
       "      <td>-118.08</td>\n",
       "      <td>33.88</td>\n",
       "      <td>27.0</td>\n",
       "      <td>3065.0</td>\n",
       "      <td>736.0</td>\n",
       "      <td>1840.0</td>\n",
       "      <td>719.0</td>\n",
       "      <td>3.6417</td>\n",
       "      <td>1</td>\n",
       "      <td>0</td>\n",
       "      <td>0</td>\n",
       "      <td>0</td>\n",
       "      <td>0</td>\n",
       "    </tr>\n",
       "    <tr>\n",
       "      <th>4729</th>\n",
       "      <td>-118.36</td>\n",
       "      <td>34.05</td>\n",
       "      <td>47.0</td>\n",
       "      <td>1424.0</td>\n",
       "      <td>300.0</td>\n",
       "      <td>632.0</td>\n",
       "      <td>278.0</td>\n",
       "      <td>4.0625</td>\n",
       "      <td>1</td>\n",
       "      <td>0</td>\n",
       "      <td>0</td>\n",
       "      <td>0</td>\n",
       "      <td>0</td>\n",
       "    </tr>\n",
       "    <tr>\n",
       "      <th>18223</th>\n",
       "      <td>-122.08</td>\n",
       "      <td>37.41</td>\n",
       "      <td>20.0</td>\n",
       "      <td>1896.0</td>\n",
       "      <td>456.0</td>\n",
       "      <td>1069.0</td>\n",
       "      <td>436.0</td>\n",
       "      <td>4.6875</td>\n",
       "      <td>0</td>\n",
       "      <td>0</td>\n",
       "      <td>0</td>\n",
       "      <td>1</td>\n",
       "      <td>0</td>\n",
       "    </tr>\n",
       "    <tr>\n",
       "      <th>14962</th>\n",
       "      <td>-116.91</td>\n",
       "      <td>32.75</td>\n",
       "      <td>5.0</td>\n",
       "      <td>8710.0</td>\n",
       "      <td>1614.0</td>\n",
       "      <td>4372.0</td>\n",
       "      <td>1527.0</td>\n",
       "      <td>4.7813</td>\n",
       "      <td>1</td>\n",
       "      <td>0</td>\n",
       "      <td>0</td>\n",
       "      <td>0</td>\n",
       "      <td>0</td>\n",
       "    </tr>\n",
       "    <tr>\n",
       "      <th>10203</th>\n",
       "      <td>-117.92</td>\n",
       "      <td>33.87</td>\n",
       "      <td>36.0</td>\n",
       "      <td>1125.0</td>\n",
       "      <td>285.0</td>\n",
       "      <td>966.0</td>\n",
       "      <td>257.0</td>\n",
       "      <td>2.8438</td>\n",
       "      <td>1</td>\n",
       "      <td>0</td>\n",
       "      <td>0</td>\n",
       "      <td>0</td>\n",
       "      <td>0</td>\n",
       "    </tr>\n",
       "  </tbody>\n",
       "</table>\n",
       "</div>"
      ],
      "text/plain": [
       "       longitude  latitude  housing_median_age  total_rooms  total_bedrooms  \\\n",
       "7909     -118.08     33.88                27.0       3065.0           736.0   \n",
       "4729     -118.36     34.05                47.0       1424.0           300.0   \n",
       "18223    -122.08     37.41                20.0       1896.0           456.0   \n",
       "14962    -116.91     32.75                 5.0       8710.0          1614.0   \n",
       "10203    -117.92     33.87                36.0       1125.0           285.0   \n",
       "\n",
       "       population  households  median_income  ocean_proximity_<1H OCEAN  \\\n",
       "7909       1840.0       719.0         3.6417                          1   \n",
       "4729        632.0       278.0         4.0625                          1   \n",
       "18223      1069.0       436.0         4.6875                          0   \n",
       "14962      4372.0      1527.0         4.7813                          1   \n",
       "10203       966.0       257.0         2.8438                          1   \n",
       "\n",
       "       ocean_proximity_INLAND  ocean_proximity_ISLAND  \\\n",
       "7909                        0                       0   \n",
       "4729                        0                       0   \n",
       "18223                       0                       0   \n",
       "14962                       0                       0   \n",
       "10203                       0                       0   \n",
       "\n",
       "       ocean_proximity_NEAR BAY  ocean_proximity_NEAR OCEAN  \n",
       "7909                          0                           0  \n",
       "4729                          0                           0  \n",
       "18223                         1                           0  \n",
       "14962                         0                           0  \n",
       "10203                         0                           0  "
      ]
     },
     "execution_count": 16,
     "metadata": {},
     "output_type": "execute_result"
    }
   ],
   "source": [
    "X.sample(5)"
   ]
  },
  {
   "cell_type": "code",
   "execution_count": 17,
   "metadata": {},
   "outputs": [
    {
     "data": {
      "text/plain": [
       "8316     True\n",
       "4448     True\n",
       "6177     True\n",
       "4951    False\n",
       "5677     True\n",
       "Name: above_median, dtype: bool"
      ]
     },
     "execution_count": 17,
     "metadata": {},
     "output_type": "execute_result"
    }
   ],
   "source": [
    "Y.sample(5)"
   ]
  },
  {
   "cell_type": "code",
   "execution_count": 18,
   "metadata": {},
   "outputs": [
    {
     "data": {
      "text/plain": [
       "Index(['longitude', 'latitude', 'housing_median_age', 'total_rooms',\n",
       "       'total_bedrooms', 'population', 'households', 'median_income',\n",
       "       'ocean_proximity_<1H OCEAN', 'ocean_proximity_INLAND',\n",
       "       'ocean_proximity_ISLAND', 'ocean_proximity_NEAR BAY',\n",
       "       'ocean_proximity_NEAR OCEAN'],\n",
       "      dtype='object')"
      ]
     },
     "execution_count": 18,
     "metadata": {},
     "output_type": "execute_result"
    }
   ],
   "source": [
    "X.columns"
   ]
  },
  {
   "cell_type": "code",
   "execution_count": 19,
   "metadata": {},
   "outputs": [],
   "source": [
    "from sklearn.model_selection import train_test_split\n",
    "\n",
    "x_train, x_test, y_train, y_test = train_test_split(X, Y, test_size = 0.2)"
   ]
  },
  {
   "cell_type": "code",
   "execution_count": 20,
   "metadata": {},
   "outputs": [
    {
     "data": {
      "text/plain": [
       "((15580, 13), (3895, 13))"
      ]
     },
     "execution_count": 20,
     "metadata": {},
     "output_type": "execute_result"
    }
   ],
   "source": [
    "x_train.shape, x_test.shape\n"
   ]
  },
  {
   "cell_type": "code",
   "execution_count": 21,
   "metadata": {},
   "outputs": [],
   "source": [
    "from sklearn.linear_model import LogisticRegression\n",
    "linear_model = LogisticRegression(solver = 'liblinear').fit(x_train, y_train)"
   ]
  },
  {
   "cell_type": "code",
   "execution_count": 22,
   "metadata": {},
   "outputs": [
    {
     "data": {
      "text/plain": [
       "(3895, 13)"
      ]
     },
     "execution_count": 22,
     "metadata": {},
     "output_type": "execute_result"
    }
   ],
   "source": [
    "x_test.shape"
   ]
  },
  {
   "cell_type": "code",
   "execution_count": 23,
   "metadata": {},
   "outputs": [
    {
     "data": {
      "text/plain": [
       "pandas.core.frame.DataFrame"
      ]
     },
     "execution_count": 23,
     "metadata": {},
     "output_type": "execute_result"
    }
   ],
   "source": [
    "type(x_test)"
   ]
  },
  {
   "cell_type": "code",
   "execution_count": null,
   "metadata": {},
   "outputs": [],
   "source": []
  },
  {
   "cell_type": "code",
   "execution_count": 41,
   "metadata": {},
   "outputs": [
    {
     "name": "stdout",
     "output_type": "stream",
     "text": [
      "Training score :0.8229139922978177\n",
      "Test score :0.8130937098844673\n"
     ]
    }
   ],
   "source": [
    "print(f'Training score :{linear_model.score(x_train, y_train)}')\n",
    "print(f'Test score :{linear_model.score(x_test, y_test)}')\n"
   ]
  },
  {
   "cell_type": "code",
   "execution_count": 43,
   "metadata": {},
   "outputs": [],
   "source": [
    "y_pred = linear_model.predict(x_test)"
   ]
  },
  {
   "cell_type": "code",
   "execution_count": 44,
   "metadata": {},
   "outputs": [],
   "source": [
    "df_pred_actual = pd.DataFrame({\"pred\" : y_pred, \"actual\" : y_test})"
   ]
  },
  {
   "cell_type": "code",
   "execution_count": 47,
   "metadata": {},
   "outputs": [
    {
     "data": {
      "text/html": [
       "<div>\n",
       "<style scoped>\n",
       "    .dataframe tbody tr th:only-of-type {\n",
       "        vertical-align: middle;\n",
       "    }\n",
       "\n",
       "    .dataframe tbody tr th {\n",
       "        vertical-align: top;\n",
       "    }\n",
       "\n",
       "    .dataframe thead th {\n",
       "        text-align: right;\n",
       "    }\n",
       "</style>\n",
       "<table border=\"1\" class=\"dataframe\">\n",
       "  <thead>\n",
       "    <tr style=\"text-align: right;\">\n",
       "      <th></th>\n",
       "      <th>pred</th>\n",
       "      <th>actual</th>\n",
       "    </tr>\n",
       "  </thead>\n",
       "  <tbody>\n",
       "    <tr>\n",
       "      <th>6806</th>\n",
       "      <td>False</td>\n",
       "      <td>True</td>\n",
       "    </tr>\n",
       "    <tr>\n",
       "      <th>14162</th>\n",
       "      <td>False</td>\n",
       "      <td>False</td>\n",
       "    </tr>\n",
       "    <tr>\n",
       "      <th>13227</th>\n",
       "      <td>False</td>\n",
       "      <td>False</td>\n",
       "    </tr>\n",
       "    <tr>\n",
       "      <th>535</th>\n",
       "      <td>True</td>\n",
       "      <td>True</td>\n",
       "    </tr>\n",
       "    <tr>\n",
       "      <th>12177</th>\n",
       "      <td>False</td>\n",
       "      <td>False</td>\n",
       "    </tr>\n",
       "    <tr>\n",
       "      <th>3128</th>\n",
       "      <td>False</td>\n",
       "      <td>False</td>\n",
       "    </tr>\n",
       "    <tr>\n",
       "      <th>8148</th>\n",
       "      <td>True</td>\n",
       "      <td>True</td>\n",
       "    </tr>\n",
       "    <tr>\n",
       "      <th>8625</th>\n",
       "      <td>True</td>\n",
       "      <td>True</td>\n",
       "    </tr>\n",
       "    <tr>\n",
       "      <th>8486</th>\n",
       "      <td>False</td>\n",
       "      <td>False</td>\n",
       "    </tr>\n",
       "    <tr>\n",
       "      <th>15272</th>\n",
       "      <td>True</td>\n",
       "      <td>True</td>\n",
       "    </tr>\n",
       "  </tbody>\n",
       "</table>\n",
       "</div>"
      ],
      "text/plain": [
       "        pred  actual\n",
       "6806   False    True\n",
       "14162  False   False\n",
       "13227  False   False\n",
       "535     True    True\n",
       "12177  False   False\n",
       "3128   False   False\n",
       "8148    True    True\n",
       "8625    True    True\n",
       "8486   False   False\n",
       "15272   True    True"
      ]
     },
     "execution_count": 47,
     "metadata": {},
     "output_type": "execute_result"
    }
   ],
   "source": [
    "df_pred_actual.head(10)"
   ]
  },
  {
   "cell_type": "code",
   "execution_count": 48,
   "metadata": {},
   "outputs": [
    {
     "name": "stdout",
     "output_type": "stream",
     "text": [
      "Testing score :0.8130937098844673\n"
     ]
    }
   ],
   "source": [
    "from sklearn.metrics import accuracy_score\n",
    "print(f'Testing score :{accuracy_score(y_test, y_pred)}')"
   ]
  },
  {
   "cell_type": "markdown",
   "metadata": {},
   "source": [
    "## The end"
   ]
  }
 ],
 "metadata": {
  "kernelspec": {
   "display_name": "Python 3.7.4 64-bit ('base': conda)",
   "language": "python",
   "name": "python37464bitbasecondaf4d5840153144c0ea89b244c4adb6c4a"
  },
  "language_info": {
   "codemirror_mode": {
    "name": "ipython",
    "version": 3
   },
   "file_extension": ".py",
   "mimetype": "text/x-python",
   "name": "python",
   "nbconvert_exporter": "python",
   "pygments_lexer": "ipython3",
   "version": "3.7.7"
  }
 },
 "nbformat": 4,
 "nbformat_minor": 2
}
